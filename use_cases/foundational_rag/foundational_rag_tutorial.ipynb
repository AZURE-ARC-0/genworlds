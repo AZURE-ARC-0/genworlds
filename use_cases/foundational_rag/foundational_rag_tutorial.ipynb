{
 "cells": [
  {
   "cell_type": "code",
   "execution_count": 1,
   "id": "c9a34950",
   "metadata": {},
   "outputs": [],
   "source": [
    "from time import sleep\n",
    "from datetime import datetime\n",
    "from typing import List\n",
    "import os\n",
    "\n",
    "from dotenv import load_dotenv\n",
    "\n",
    "load_dotenv()\n",
    "openai_api_key = os.environ.get(\"OPENAI_API_KEY\")"
   ]
  },
  {
   "cell_type": "code",
   "execution_count": 2,
   "id": "5df3acf0",
   "metadata": {},
   "outputs": [
    {
     "name": "stderr",
     "output_type": "stream",
     "text": [
      "INFO:numexpr.utils:NumExpr defaulting to 8 threads.\n",
      "INFO:     Started server process [17188]\n",
      "INFO:     Waiting for application startup.\n",
      "INFO:     Application startup complete.\n",
      "INFO:     Uvicorn running on http://127.0.0.1:7456 (Press CTRL+C to quit)\n",
      "INFO:     ('127.0.0.1', 61931) - \"WebSocket /ws\" [accepted]\n",
      "INFO:     connection open\n",
      "INFO:websocket:Websocket connected\n",
      "\u001b[31m[rag-world Thread] Connected to world socket server ws://127.0.0.1:7456/ws\u001b[0m\n",
      "INFO:rag-world Thread:Connected to world socket server ws://127.0.0.1:7456/ws\n"
     ]
    }
   ],
   "source": [
    "from genworlds.worlds.concrete.community_chat_interface.world import ChatInterfaceWorld\n",
    "\n",
    "RAGWorld = ChatInterfaceWorld(\n",
    "    name=\"RAGWorld\",\n",
    "    description=\"\"\"A world simulating the real-world scenario where users seek answers \n",
    "    based on processed content from various data sources.\"\"\",\n",
    "    id=\"rag-world\"\n",
    ")\n",
    "\n",
    "RAGWorld.launch()"
   ]
  },
  {
   "cell_type": "code",
   "execution_count": 3,
   "id": "3762184d",
   "metadata": {},
   "outputs": [
    {
     "name": "stderr",
     "output_type": "stream",
     "text": [
      "INFO:     ('127.0.0.1', 61932) - \"WebSocket /ws\" [accepted]\n",
      "INFO:     connection open\n",
      "INFO:websocket:Websocket connected\n",
      "\u001b[33m[qdrant_bucket Thread] Connected to world socket server ws://127.0.0.1:7456/ws\u001b[0m\n",
      "INFO:qdrant_bucket Thread:Connected to world socket server ws://127.0.0.1:7456/ws\n"
     ]
    }
   ],
   "source": [
    "from objects.qdrant_bucket import QdrantBucket\n",
    "\n",
    "# Instantiate the QdrantBucket Object\n",
    "qdrant_bucket = QdrantBucket(id=\"qdrant_bucket\", path=\"./databases/vector_store.qdrant\")\n",
    "\n",
    "# Incorporate the QdrantBucket into the Simulation\n",
    "RAGWorld.add_object(qdrant_bucket)"
   ]
  },
  {
   "cell_type": "code",
   "execution_count": 4,
   "id": "fc51b59a",
   "metadata": {},
   "outputs": [
    {
     "name": "stderr",
     "output_type": "stream",
     "text": [
      "INFO:     ('127.0.0.1', 61933) - \"WebSocket /ws\" [accepted]\n",
      "INFO:     connection open\n",
      "INFO:websocket:Websocket connected\n",
      "\u001b[34m[local_storage_bucket Thread] Connected to world socket server ws://127.0.0.1:7456/ws\u001b[0m\n",
      "INFO:local_storage_bucket Thread:Connected to world socket server ws://127.0.0.1:7456/ws\n"
     ]
    }
   ],
   "source": [
    "from objects.local_storage_bucket import LocalStorageBucket\n",
    "\n",
    "# Example usage:\n",
    "local_storage = LocalStorageBucket(id=\"local_storage_bucket\")\n",
    "\n",
    "# Incorporate the Local Storage Bucket into the Simulation\n",
    "RAGWorld.add_object(local_storage)"
   ]
  },
  {
   "cell_type": "code",
   "execution_count": 5,
   "id": "bc8048f8",
   "metadata": {},
   "outputs": [
    {
     "name": "stderr",
     "output_type": "stream",
     "text": [
      "INFO:     ('127.0.0.1', 61934) - \"WebSocket /ws\" [accepted]\n",
      "INFO:     connection open\n",
      "INFO:websocket:Websocket connected\n",
      "\u001b[35m[test_user Thread] Connected to world socket server ws://127.0.0.1:7456/ws\u001b[0m\n",
      "INFO:test_user Thread:Connected to world socket server ws://127.0.0.1:7456/ws\n"
     ]
    }
   ],
   "source": [
    "from genworlds.utils.test_user import TestUser\n",
    "\n",
    "# Create a Testing User\n",
    "test_user = TestUser()"
   ]
  },
  {
   "cell_type": "code",
   "execution_count": 6,
   "id": "214def1e",
   "metadata": {},
   "outputs": [
    {
     "name": "stderr",
     "output_type": "stream",
     "text": [
      "INFO:     ('127.0.0.1', 61935) - \"WebSocket /ws\" [accepted]\n",
      "INFO:     connection open\n",
      "INFO:websocket:Websocket connected\n",
      "\u001b[36m[DCPI Thread] Connected to world socket server ws://127.0.0.1:7456/ws\u001b[0m\n",
      "INFO:DCPI Thread:Connected to world socket server ws://127.0.0.1:7456/ws\n"
     ]
    },
    {
     "name": "stdout",
     "output_type": "stream",
     "text": [
      "{\"event_type\": \"agent_wants_updated_state\", \"description\": \"Agent wants to update its state.\", \"summary\": null, \"created_at\": \"2023-10-02T22:40:35.353476\", \"sender_id\": \"DCPI\", \"target_id\": \"rag-world\"}\n",
      "{\"event_type\": \"world_sends_available_entities_event\", \"description\": \"Send available entities.\", \"summary\": null, \"created_at\": \"2023-10-02T22:40:35.356543\", \"sender_id\": \"rag-world\", \"target_id\": \"DCPI\", \"available_entities\": {\"rag-world\": {\"id\": \"rag-world\", \"entity_type\": \"WORLD\", \"entity_class\": \"ChatInterfaceWorld\", \"name\": \"RAGWorld\", \"description\": \"A world simulating the real-world scenario where users seek answers \\n    based on processed content from various data sources.\"}, \"DCPI\": {\"id\": \"DCPI\", \"entity_type\": \"AGENT\", \"entity_class\": \"BasicAssistant\", \"name\": \"DCPI\", \"description\": \"Agent that helps the user process files and create data structures \\nsuch as vector stores using available objects.\"}, \"qdrant_bucket\": {\"id\": \"qdrant_bucket\", \"entity_type\": \"OBJECT\", \"entity_class\": \"QdrantBucket\", \"name\": \"Qdrant Bucket\", \"description\": \"A specialized object designed to manage interactions with the Qdrant vector store. This includes operations like generating text chunk collections, named entity recognition collections, and retrieving chunks by similarity.\"}, \"local_storage_bucket\": {\"id\": \"local_storage_bucket\", \"entity_type\": \"OBJECT\", \"entity_class\": \"LocalStorageBucket\", \"name\": \"LocalStorage Bucket\", \"description\": \"Object used to consolidate various document types into a single .txt file and store it locally.\"}}}\n",
      "{\"event_type\": \"world_sends_available_action_schemas_event\", \"description\": \"The world sends the possible action schemas to all the agents.\", \"summary\": null, \"created_at\": \"2023-10-02T22:40:35.374623\", \"sender_id\": \"rag-world\", \"target_id\": null, \"world_name\": \"RAGWorld\", \"world_description\": \"A world simulating the real-world scenario where users seek answers \\n    based on processed content from various data sources.\", \"available_action_schemas\": {\"rag-world:WorldSendsAvailableEntities\": \"Send available entities.|agent_wants_updated_state|{\\\"title\\\": \\\"AgentWantsUpdatedStateEvent\\\", \\\"description\\\": \\\"Helper class that provides a standard way to create an ABC using\\\\ninheritance.\\\", \\\"type\\\": \\\"object\\\", \\\"properties\\\": {\\\"event_type\\\": {\\\"title\\\": \\\"Event Type\\\", \\\"default\\\": \\\"agent_wants_updated_state\\\", \\\"type\\\": \\\"string\\\"}, \\\"description\\\": {\\\"title\\\": \\\"Description\\\", \\\"default\\\": \\\"Agent wants to update its state.\\\", \\\"type\\\": \\\"string\\\"}, \\\"summary\\\": {\\\"title\\\": \\\"Summary\\\", \\\"type\\\": \\\"string\\\"}, \\\"created_at\\\": {\\\"title\\\": \\\"Created At\\\", \\\"type\\\": \\\"string\\\", \\\"format\\\": \\\"date-time\\\"}, \\\"sender_id\\\": {\\\"title\\\": \\\"Sender Id\\\", \\\"type\\\": \\\"string\\\"}, \\\"target_id\\\": {\\\"title\\\": \\\"Target Id\\\", \\\"type\\\": \\\"string\\\"}}, \\\"required\\\": [\\\"sender_id\\\"]}\", \"rag-world:WorldSendsAvailableActionSchemas\": \"The world sends the possible action schemas to all the agents.|agent_wants_updated_state|{\\\"title\\\": \\\"AgentWantsUpdatedStateEvent\\\", \\\"description\\\": \\\"Helper class that provides a standard way to create an ABC using\\\\ninheritance.\\\", \\\"type\\\": \\\"object\\\", \\\"properties\\\": {\\\"event_type\\\": {\\\"title\\\": \\\"Event Type\\\", \\\"default\\\": \\\"agent_wants_updated_state\\\", \\\"type\\\": \\\"string\\\"}, \\\"description\\\": {\\\"title\\\": \\\"Description\\\", \\\"default\\\": \\\"Agent wants to update its state.\\\", \\\"type\\\": \\\"string\\\"}, \\\"summary\\\": {\\\"title\\\": \\\"Summary\\\", \\\"type\\\": \\\"string\\\"}, \\\"created_at\\\": {\\\"title\\\": \\\"Created At\\\", \\\"type\\\": \\\"string\\\", \\\"format\\\": \\\"date-time\\\"}, \\\"sender_id\\\": {\\\"title\\\": \\\"Sender Id\\\", \\\"type\\\": \\\"string\\\"}, \\\"target_id\\\": {\\\"title\\\": \\\"Target Id\\\", \\\"type\\\": \\\"string\\\"}}, \\\"required\\\": [\\\"sender_id\\\"]}\", \"rag-world:WorldSendsScreensToUser\": \"The world sends the screens to the user.|user_requests_screens_to_world|{\\\"title\\\": \\\"UserRequestsScreensToWorldEvent\\\", \\\"description\\\": \\\"Helper class that provides a standard way to create an ABC using\\\\ninheritance.\\\", \\\"type\\\": \\\"object\\\", \\\"properties\\\": {\\\"event_type\\\": {\\\"title\\\": \\\"Event Type\\\", \\\"default\\\": \\\"user_requests_screens_to_world\\\", \\\"type\\\": \\\"string\\\"}, \\\"description\\\": {\\\"title\\\": \\\"Description\\\", \\\"default\\\": \\\"The user requests the screens to the world.\\\", \\\"type\\\": \\\"string\\\"}, \\\"summary\\\": {\\\"title\\\": \\\"Summary\\\", \\\"type\\\": \\\"string\\\"}, \\\"created_at\\\": {\\\"title\\\": \\\"Created At\\\", \\\"type\\\": \\\"string\\\", \\\"format\\\": \\\"date-time\\\"}, \\\"sender_id\\\": {\\\"title\\\": \\\"Sender Id\\\", \\\"type\\\": \\\"string\\\"}, \\\"target_id\\\": {\\\"title\\\": \\\"Target Id\\\", \\\"type\\\": \\\"string\\\"}}, \\\"required\\\": [\\\"sender_id\\\"]}\", \"qdrant_bucket:GenerateTextChunkCollection\": \"Action that generates a collection of text chunks for storage in Qdrant.|agent_generates_text_chunk_collection|{\\\"title\\\": \\\"AgentGeneratesTextChunkCollection\\\", \\\"description\\\": \\\"Helper class that provides a standard way to create an ABC using\\\\ninheritance.\\\", \\\"type\\\": \\\"object\\\", \\\"properties\\\": {\\\"event_type\\\": {\\\"title\\\": \\\"Event Type\\\", \\\"default\\\": \\\"agent_generates_text_chunk_collection\\\", \\\"type\\\": \\\"string\\\"}, \\\"description\\\": {\\\"title\\\": \\\"Description\\\", \\\"default\\\": \\\"Event triggered when an agent needs to generate a collection of text chunks for storage in Qdrant.\\\", \\\"type\\\": \\\"string\\\"}, \\\"summary\\\": {\\\"title\\\": \\\"Summary\\\", \\\"type\\\": \\\"string\\\"}, \\\"created_at\\\": {\\\"title\\\": \\\"Created At\\\", \\\"type\\\": \\\"string\\\", \\\"format\\\": \\\"date-time\\\"}, \\\"sender_id\\\": {\\\"title\\\": \\\"Sender Id\\\", \\\"type\\\": \\\"string\\\"}, \\\"target_id\\\": {\\\"title\\\": \\\"Target Id\\\", \\\"type\\\": \\\"string\\\"}, \\\"full_text_path\\\": {\\\"title\\\": \\\"Full Text Path\\\", \\\"type\\\": \\\"string\\\"}, \\\"collection_name\\\": {\\\"title\\\": \\\"Collection Name\\\", \\\"type\\\": \\\"string\\\"}, \\\"num_tokens_chunk_size\\\": {\\\"title\\\": \\\"Num Tokens Chunk Size\\\", \\\"default\\\": 500, \\\"type\\\": \\\"integer\\\"}, \\\"metadata\\\": {\\\"title\\\": \\\"Metadata\\\", \\\"default\\\": {}, \\\"type\\\": \\\"object\\\"}}, \\\"required\\\": [\\\"sender_id\\\", \\\"full_text_path\\\", \\\"collection_name\\\"]}\", \"qdrant_bucket:GenerateNERCollection\": \"Action that generates a collection of named entities extracted from a provided text.|agent_generates_ner_collection|{\\\"title\\\": \\\"AgentGeneratesNERCollection\\\", \\\"description\\\": \\\"Helper class that provides a standard way to create an ABC using\\\\ninheritance.\\\", \\\"type\\\": \\\"object\\\", \\\"properties\\\": {\\\"event_type\\\": {\\\"title\\\": \\\"Event Type\\\", \\\"default\\\": \\\"agent_generates_ner_collection\\\", \\\"type\\\": \\\"string\\\"}, \\\"description\\\": {\\\"title\\\": \\\"Description\\\", \\\"default\\\": \\\"Event indicating the agent's intent to generate a collection of named entities extracted from a provided text.\\\", \\\"type\\\": \\\"string\\\"}, \\\"summary\\\": {\\\"title\\\": \\\"Summary\\\", \\\"type\\\": \\\"string\\\"}, \\\"created_at\\\": {\\\"title\\\": \\\"Created At\\\", \\\"type\\\": \\\"string\\\", \\\"format\\\": \\\"date-time\\\"}, \\\"sender_id\\\": {\\\"title\\\": \\\"Sender Id\\\", \\\"type\\\": \\\"string\\\"}, \\\"target_id\\\": {\\\"title\\\": \\\"Target Id\\\", \\\"type\\\": \\\"string\\\"}, \\\"full_text_path\\\": {\\\"title\\\": \\\"Full Text Path\\\", \\\"type\\\": \\\"string\\\"}, \\\"collection_name\\\": {\\\"title\\\": \\\"Collection Name\\\", \\\"type\\\": \\\"string\\\"}, \\\"num_tokens_chunk_size\\\": {\\\"title\\\": \\\"Num Tokens Chunk Size\\\", \\\"default\\\": 500, \\\"type\\\": \\\"integer\\\"}, \\\"metadata\\\": {\\\"title\\\": \\\"Metadata\\\", \\\"default\\\": {}, \\\"type\\\": \\\"object\\\"}}, \\\"required\\\": [\\\"sender_id\\\", \\\"full_text_path\\\", \\\"collection_name\\\"]}\", \"qdrant_bucket:RetrieveChunksBySimilarity\": \"Retrieves a list of text chunks from a Qdrant collection that are similar to a given query.|agent_sends_query_to_retrieve_chunks|{\\\"title\\\": \\\"VectorStoreCollectionRetrieveQuery\\\", \\\"description\\\": \\\"Helper class that provides a standard way to create an ABC using\\\\ninheritance.\\\", \\\"type\\\": \\\"object\\\", \\\"properties\\\": {\\\"event_type\\\": {\\\"title\\\": \\\"Event Type\\\", \\\"default\\\": \\\"agent_sends_query_to_retrieve_chunks\\\", \\\"type\\\": \\\"string\\\"}, \\\"description\\\": {\\\"title\\\": \\\"Description\\\", \\\"default\\\": \\\"Event to signal the retrieval of chunks from a Qdrant collection based on a similarity query.\\\", \\\"type\\\": \\\"string\\\"}, \\\"summary\\\": {\\\"title\\\": \\\"Summary\\\", \\\"type\\\": \\\"string\\\"}, \\\"created_at\\\": {\\\"title\\\": \\\"Created At\\\", \\\"type\\\": \\\"string\\\", \\\"format\\\": \\\"date-time\\\"}, \\\"sender_id\\\": {\\\"title\\\": \\\"Sender Id\\\", \\\"type\\\": \\\"string\\\"}, \\\"target_id\\\": {\\\"title\\\": \\\"Target Id\\\", \\\"type\\\": \\\"string\\\"}, \\\"collection_name\\\": {\\\"title\\\": \\\"Collection Name\\\", \\\"type\\\": \\\"string\\\"}, \\\"query\\\": {\\\"title\\\": \\\"Query\\\", \\\"type\\\": \\\"string\\\"}, \\\"num_chunks\\\": {\\\"title\\\": \\\"Num Chunks\\\", \\\"default\\\": 5, \\\"type\\\": \\\"integer\\\"}}, \\\"required\\\": [\\\"sender_id\\\", \\\"collection_name\\\", \\\"query\\\"]}\", \"local_storage_bucket:ConvertFolderToTxt\": \"Converts all supported documents in a specific folder to a single txt file.|agent_requests_folder_conversion|{\\\"title\\\": \\\"AgentRequestsFolderConversion\\\", \\\"description\\\": \\\"Helper class that provides a standard way to create an ABC using\\\\ninheritance.\\\", \\\"type\\\": \\\"object\\\", \\\"properties\\\": {\\\"event_type\\\": {\\\"title\\\": \\\"Event Type\\\", \\\"default\\\": \\\"agent_requests_folder_conversion\\\", \\\"type\\\": \\\"string\\\"}, \\\"description\\\": {\\\"title\\\": \\\"Description\\\", \\\"default\\\": \\\"An agent requests conversion of all supported documents in a specific folder to a single txt file.\\\", \\\"type\\\": \\\"string\\\"}, \\\"summary\\\": {\\\"title\\\": \\\"Summary\\\", \\\"type\\\": \\\"string\\\"}, \\\"created_at\\\": {\\\"title\\\": \\\"Created At\\\", \\\"type\\\": \\\"string\\\", \\\"format\\\": \\\"date-time\\\"}, \\\"sender_id\\\": {\\\"title\\\": \\\"Sender Id\\\", \\\"type\\\": \\\"string\\\"}, \\\"target_id\\\": {\\\"title\\\": \\\"Target Id\\\", \\\"type\\\": \\\"string\\\"}, \\\"input_folder_path\\\": {\\\"title\\\": \\\"Input Folder Path\\\", \\\"type\\\": \\\"string\\\"}, \\\"output_file_path\\\": {\\\"title\\\": \\\"Output File Path\\\", \\\"type\\\": \\\"string\\\"}}, \\\"required\\\": [\\\"sender_id\\\", \\\"input_folder_path\\\", \\\"output_file_path\\\"]}\", \"DCPI:UpdateAgentAvailableEntities\": \"Update the available entities in the agent's state.|world_sends_available_entities_event|{\\\"title\\\": \\\"WorldSendsAvailableEntitiesEvent\\\", \\\"description\\\": \\\"Helper class that provides a standard way to create an ABC using\\\\ninheritance.\\\", \\\"type\\\": \\\"object\\\", \\\"properties\\\": {\\\"event_type\\\": {\\\"title\\\": \\\"Event Type\\\", \\\"default\\\": \\\"world_sends_available_entities_event\\\", \\\"type\\\": \\\"string\\\"}, \\\"description\\\": {\\\"title\\\": \\\"Description\\\", \\\"default\\\": \\\"Send available entities.\\\", \\\"type\\\": \\\"string\\\"}, \\\"summary\\\": {\\\"title\\\": \\\"Summary\\\", \\\"type\\\": \\\"string\\\"}, \\\"created_at\\\": {\\\"title\\\": \\\"Created At\\\", \\\"type\\\": \\\"string\\\", \\\"format\\\": \\\"date-time\\\"}, \\\"sender_id\\\": {\\\"title\\\": \\\"Sender Id\\\", \\\"type\\\": \\\"string\\\"}, \\\"target_id\\\": {\\\"title\\\": \\\"Target Id\\\", \\\"type\\\": \\\"string\\\"}, \\\"available_entities\\\": {\\\"title\\\": \\\"Available Entities\\\", \\\"type\\\": \\\"object\\\"}}, \\\"required\\\": [\\\"sender_id\\\", \\\"available_entities\\\"]}\", \"DCPI:UpdateAgentAvailableActionSchemas\": \"Update the available action schemas in the agent's state.|world_sends_available_action_schemas_event|{\\\"title\\\": \\\"WorldSendsAvailableActionSchemasEvent\\\", \\\"description\\\": \\\"Helper class that provides a standard way to create an ABC using\\\\ninheritance.\\\", \\\"type\\\": \\\"object\\\", \\\"properties\\\": {\\\"event_type\\\": {\\\"title\\\": \\\"Event Type\\\", \\\"default\\\": \\\"world_sends_available_action_schemas_event\\\", \\\"type\\\": \\\"string\\\"}, \\\"description\\\": {\\\"title\\\": \\\"Description\\\", \\\"default\\\": \\\"The world sends the possible action schemas to all the agents.\\\", \\\"type\\\": \\\"string\\\"}, \\\"summary\\\": {\\\"title\\\": \\\"Summary\\\", \\\"type\\\": \\\"string\\\"}, \\\"created_at\\\": {\\\"title\\\": \\\"Created At\\\", \\\"type\\\": \\\"string\\\", \\\"format\\\": \\\"date-time\\\"}, \\\"sender_id\\\": {\\\"title\\\": \\\"Sender Id\\\", \\\"type\\\": \\\"string\\\"}, \\\"target_id\\\": {\\\"title\\\": \\\"Target Id\\\", \\\"type\\\": \\\"string\\\"}, \\\"world_name\\\": {\\\"title\\\": \\\"World Name\\\", \\\"type\\\": \\\"string\\\"}, \\\"world_description\\\": {\\\"title\\\": \\\"World Description\\\", \\\"type\\\": \\\"string\\\"}, \\\"available_action_schemas\\\": {\\\"title\\\": \\\"Available Action Schemas\\\", \\\"type\\\": \\\"object\\\", \\\"additionalProperties\\\": {\\\"type\\\": \\\"string\\\"}}}, \\\"required\\\": [\\\"sender_id\\\", \\\"world_name\\\", \\\"world_description\\\", \\\"available_action_schemas\\\"]}\", \"DCPI:AgentGoesToSleep\": \"The agent goes to sleep. He has to wait for new events. The sender and the target ID is the agent's ID.|agent_wants_to_sleep|{\\\"title\\\": \\\"AgentWantsToSleepEvent\\\", \\\"description\\\": \\\"Helper class that provides a standard way to create an ABC using\\\\ninheritance.\\\", \\\"type\\\": \\\"object\\\", \\\"properties\\\": {\\\"event_type\\\": {\\\"title\\\": \\\"Event Type\\\", \\\"default\\\": \\\"agent_wants_to_sleep\\\", \\\"type\\\": \\\"string\\\"}, \\\"description\\\": {\\\"title\\\": \\\"Description\\\", \\\"default\\\": \\\"The agent wants to sleep. He has to wait for new events. The sender and the target ID is the agent's ID.\\\", \\\"type\\\": \\\"string\\\"}, \\\"summary\\\": {\\\"title\\\": \\\"Summary\\\", \\\"type\\\": \\\"string\\\"}, \\\"created_at\\\": {\\\"title\\\": \\\"Created At\\\", \\\"type\\\": \\\"string\\\", \\\"format\\\": \\\"date-time\\\"}, \\\"sender_id\\\": {\\\"title\\\": \\\"Sender Id\\\", \\\"type\\\": \\\"string\\\"}, \\\"target_id\\\": {\\\"title\\\": \\\"Target Id\\\", \\\"type\\\": \\\"string\\\"}}, \\\"required\\\": [\\\"sender_id\\\"]}\", \"DCPI:AgentSpeaksWithUser\": \"An agent speaks with the user.|agent_speaks_with_user_trigger_event|{\\\"title\\\": \\\"AgentSpeaksWithUserTriggerEvent\\\", \\\"description\\\": \\\"Helper class that provides a standard way to create an ABC using\\\\ninheritance.\\\", \\\"type\\\": \\\"object\\\", \\\"properties\\\": {\\\"event_type\\\": {\\\"title\\\": \\\"Event Type\\\", \\\"default\\\": \\\"agent_speaks_with_user_trigger_event\\\", \\\"type\\\": \\\"string\\\"}, \\\"description\\\": {\\\"title\\\": \\\"Description\\\", \\\"default\\\": \\\"An agent speaks with the user.\\\", \\\"type\\\": \\\"string\\\"}, \\\"summary\\\": {\\\"title\\\": \\\"Summary\\\", \\\"type\\\": \\\"string\\\"}, \\\"created_at\\\": {\\\"title\\\": \\\"Created At\\\", \\\"type\\\": \\\"string\\\", \\\"format\\\": \\\"date-time\\\"}, \\\"sender_id\\\": {\\\"title\\\": \\\"Sender Id\\\", \\\"type\\\": \\\"string\\\"}, \\\"target_id\\\": {\\\"title\\\": \\\"Target Id\\\", \\\"type\\\": \\\"string\\\"}, \\\"message\\\": {\\\"title\\\": \\\"Message\\\", \\\"type\\\": \\\"string\\\"}}, \\\"required\\\": [\\\"sender_id\\\", \\\"message\\\"]}\", \"DCPI:AgentSpeaksWithAgent\": \"An agent speaks with another agent.|agent_speaks_with_agent_event|{\\\"title\\\": \\\"AgentSpeaksWithAgentEvent\\\", \\\"description\\\": \\\"Helper class that provides a standard way to create an ABC using\\\\ninheritance.\\\", \\\"type\\\": \\\"object\\\", \\\"properties\\\": {\\\"event_type\\\": {\\\"title\\\": \\\"Event Type\\\", \\\"default\\\": \\\"agent_speaks_with_agent_event\\\", \\\"type\\\": \\\"string\\\"}, \\\"description\\\": {\\\"title\\\": \\\"Description\\\", \\\"default\\\": \\\"An agent speaks with another agent.\\\", \\\"type\\\": \\\"string\\\"}, \\\"summary\\\": {\\\"title\\\": \\\"Summary\\\", \\\"type\\\": \\\"string\\\"}, \\\"created_at\\\": {\\\"title\\\": \\\"Created At\\\", \\\"type\\\": \\\"string\\\", \\\"format\\\": \\\"date-time\\\"}, \\\"sender_id\\\": {\\\"title\\\": \\\"Sender Id\\\", \\\"type\\\": \\\"string\\\"}, \\\"target_id\\\": {\\\"title\\\": \\\"Target Id\\\", \\\"type\\\": \\\"string\\\"}, \\\"message\\\": {\\\"title\\\": \\\"Message\\\", \\\"type\\\": \\\"string\\\"}}, \\\"required\\\": [\\\"sender_id\\\", \\\"message\\\"]}\"}}\n"
     ]
    },
    {
     "name": "stdout",
     "output_type": "stream",
     "text": [
      "\n",
      "\n",
      "\u001b[1m> Entering new LLMChain chain...\u001b[0m\n",
      "Prompt after formatting:\n",
      "\u001b[32;1m\u001b[1;3mSystem: You are DCPI, Agent that helps the user process files and create data structures \n",
      "such as vector stores using available objects..\n",
      "\n",
      "System: You are embedded in a simulated world with those properties \n",
      "\n",
      "System: Those are your goals: \n",
      "['Starts waiting and sleeps till the user starts a new question.', \"Once DCPI receives a user's question, he makes sure to have all the information before sending the answer to the user.\", 'When DCPI has all the required information, he speaks to the user with the results through the agent_speaks_with_user_event.', 'After sending the response, he waits for the next user question.', 'If you have been waiting for any object or entity to send you an event for over 30 seconds, you will wait and sleep until you receive a new event.']\n",
      "\n",
      "System: And this is your current plan to achieve the goals: \n",
      "[]\n",
      "\n",
      "System: Here is your memories of all the events that you remember from being in this simulation: \n",
      "\n",
      "\n",
      "# Your Memories\n",
      "\n",
      "## Last events from oldest to most recent\n",
      "\n",
      "\n",
      "\n",
      "System: Those are the available actions that you can choose from: \n",
      "## Available Actions: \n",
      "\n",
      "Action Name: rag-world:WorldSendsAvailableEntities\n",
      "Action Description: Send available entities.\n",
      "\n",
      "Action Name: rag-world:WorldSendsAvailableActionSchemas\n",
      "Action Description: The world sends the possible action schemas to all the agents.\n",
      "\n",
      "Action Name: rag-world:WorldSendsScreensToUser\n",
      "Action Description: The world sends the screens to the user.\n",
      "\n",
      "Action Name: qdrant_bucket:GenerateTextChunkCollection\n",
      "Action Description: Action that generates a collection of text chunks for storage in Qdrant.\n",
      "\n",
      "Action Name: qdrant_bucket:GenerateNERCollection\n",
      "Action Description: Action that generates a collection of named entities extracted from a provided text.\n",
      "\n",
      "Action Name: qdrant_bucket:RetrieveChunksBySimilarity\n",
      "Action Description: Retrieves a list of text chunks from a Qdrant collection that are similar to a given query.\n",
      "\n",
      "Action Name: local_storage_bucket:ConvertFolderToTxt\n",
      "Action Description: Converts all supported documents in a specific folder to a single txt file.\n",
      "\n",
      "Action Name: DCPI:UpdateAgentAvailableEntities\n",
      "Action Description: Update the available entities in the agent's state.\n",
      "\n",
      "Action Name: DCPI:UpdateAgentAvailableActionSchemas\n",
      "Action Description: Update the available action schemas in the agent's state.\n",
      "\n",
      "Action Name: DCPI:AgentGoesToSleep\n",
      "Action Description: The agent goes to sleep. He has to wait for new events. The sender and the target ID is the agent's ID.\n",
      "\n",
      "Action Name: DCPI:AgentSpeaksWithUser\n",
      "Action Description: An agent speaks with the user.\n",
      "\n",
      "Action Name: DCPI:AgentSpeaksWithAgent\n",
      "Action Description: An agent speaks with another agent.\n",
      "\n",
      "\n",
      "\n",
      "Human: Select the next action which must be a value of the available actions that you can choose from based on previous context.\n",
      "Also select whether the action is valid or not, and if not, why.\n",
      "And finally, state a new updated plan that you want to execute to achieve your goals. If your next action is going to sleep, then you don't need to state a new plan.\n",
      "            \n",
      "\u001b[0m\n",
      "\n",
      "\u001b[1m> Finished chain.\u001b[0m\n",
      "\n",
      "\n",
      "\u001b[1m> Entering new LLMChain chain...\u001b[0m\n",
      "Prompt after formatting:\n",
      "\u001b[32;1m\u001b[1;3mSystem: You are DCPI, Agent that helps the user process files and create data structures \n",
      "such as vector stores using available objects..\n",
      "System: You are embedded in a simulated world with those properties \n",
      "System: Those are your goals: \n",
      "['Starts waiting and sleeps till the user starts a new question.', \"Once DCPI receives a user's question, he makes sure to have all the information before sending the answer to the user.\", 'When DCPI has all the required information, he speaks to the user with the results through the agent_speaks_with_user_event.', 'After sending the response, he waits for the next user question.', 'If you have been waiting for any object or entity to send you an event for over 30 seconds, you will wait and sleep until you receive a new event.']\n",
      "System: And this is your current plan to achieve the goals: \n",
      "[]\n",
      "System: Here is your memories of all the events that you remember from being in this simulation: \n",
      "\n",
      "\n",
      "# Your Memories\n",
      "\n",
      "## Last events from oldest to most recent\n",
      "\n",
      "\n",
      "System: Those are the available entities that you can choose from: \n",
      "{'rag-world': {'id': 'rag-world', 'entity_type': 'WORLD', 'entity_class': 'ChatInterfaceWorld', 'name': 'RAGWorld', 'description': 'A world simulating the real-world scenario where users seek answers \\n    based on processed content from various data sources.'}, 'DCPI': {'id': 'DCPI', 'entity_type': 'AGENT', 'entity_class': 'BasicAssistant', 'name': 'DCPI', 'description': 'Agent that helps the user process files and create data structures \\nsuch as vector stores using available objects.'}, 'qdrant_bucket': {'id': 'qdrant_bucket', 'entity_type': 'OBJECT', 'entity_class': 'QdrantBucket', 'name': 'Qdrant Bucket', 'description': 'A specialized object designed to manage interactions with the Qdrant vector store. This includes operations like generating text chunk collections, named entity recognition collections, and retrieving chunks by similarity.'}, 'local_storage_bucket': {'id': 'local_storage_bucket', 'entity_type': 'OBJECT', 'entity_class': 'LocalStorageBucket', 'name': 'LocalStorage Bucket', 'description': 'Object used to consolidate various document types into a single .txt file and store it locally.'}}\n",
      "System: Here you have pre-filled parameters coming from your previous thoughts if any: \n",
      "{}\n",
      "System: Here is the triggering event schema: \n",
      "{\"title\": \"AgentWantsToSleepEvent\", \"description\": \"Helper class that provides a standard way to create an ABC using\\ninheritance.\", \"type\": \"object\", \"properties\": {\"event_type\": {\"title\": \"Event Type\", \"default\": \"agent_wants_to_sleep\", \"type\": \"string\"}, \"description\": {\"title\": \"Description\", \"default\": \"The agent wants to sleep. He has to wait for new events. The sender and the target ID is the agent's ID.\", \"type\": \"string\"}, \"summary\": {\"title\": \"Summary\", \"type\": \"string\"}, \"created_at\": {\"title\": \"Created At\", \"type\": \"string\", \"format\": \"date-time\"}, \"sender_id\": {\"title\": \"Sender Id\", \"type\": \"string\"}, \"target_id\": {\"title\": \"Target Id\", \"type\": \"string\"}}, \"required\": [\"sender_id\"]}\n",
      "Human: Fill the parameters of the triggering event based on the previous context that you have about the world.\n",
      "            \u001b[0m\n",
      "\n",
      "\u001b[1m> Finished chain.\u001b[0m\n",
      "Agent goes to sleep...\n",
      "{\"event_type\": \"agent_goes_to_sleep\", \"description\": \"The agent goes to sleep.\", \"summary\": null, \"created_at\": \"2023-10-02T22:40:49.842217\", \"sender_id\": \"DCPI\", \"target_id\": null}\n"
     ]
    }
   ],
   "source": [
    "from genworlds.agents.concrete.basic_assistant.utils import generate_basic_assistant\n",
    "from genworlds.worlds.concrete.base.actions import UserSpeaksWithAgentEvent\n",
    "from objects.qdrant_bucket import VectorStoreCollectionCreated\n",
    "\n",
    "\n",
    "agent_name = \"DCPI\"\n",
    "description = \"\"\"Agent that helps the user process files and create data structures \n",
    "such as vector stores using available objects.\"\"\"\n",
    "\n",
    "# Generate a Dummy Agent named DCPI\n",
    "dcpi = generate_basic_assistant(\n",
    "    agent_name=agent_name, \n",
    "    description=description,\n",
    "    openai_api_key=openai_api_key\n",
    ")\n",
    "\n",
    "# We add the vector_store_collection_created event to the wakeup_events dictionary because it can take several minutes to complete\n",
    "dcpi.add_wakeup_event(event_class=UserSpeaksWithAgentEvent)\n",
    "dcpi.add_wakeup_event(event_class=VectorStoreCollectionCreated)\n",
    "\n",
    "## Attach DCPI to the Simulation\n",
    "RAGWorld.add_agent(dcpi)"
   ]
  },
  {
   "cell_type": "code",
   "execution_count": 7,
   "id": "7f475cbb",
   "metadata": {},
   "outputs": [],
   "source": [
    "from genworlds.worlds.concrete.base.actions import UserSpeaksWithAgentEvent\n",
    "\n",
    "# Format the message that will be sent to the simulation socket\n",
    "test_msg = \"\"\"DCPI Agent, please convert the documents located './databases/genworlds-docs' \n",
    "into a single txt and store it as ./databases/genworlds-docs.txt \"\"\"\n",
    "\n",
    "message_to_send = UserSpeaksWithAgentEvent(\n",
    "    sender_id=test_user.id, \n",
    "    created_at=datetime.now(),\n",
    "    message=test_msg, \n",
    "    target_id=\"DCPI\"\n",
    ").json()\n",
    "\n",
    "sleep(1)\n",
    "\n",
    "# Send the message to DCPI\n",
    "test_user.socket_client.send_message(message_to_send)"
   ]
  },
  {
   "cell_type": "code",
   "execution_count": 8,
   "id": "ba2a96c3",
   "metadata": {},
   "outputs": [],
   "source": [
    "from genworlds.worlds.concrete.base.actions import UserSpeaksWithAgentEvent\n",
    "\n",
    "# Format the message that will be sent to the simulation socket\n",
    "test_msg = \"\"\"DCPI Agent, please create a collection named genworlds-text-chunks in the qdrant vectorstore\n",
    "from the contents of this file ./databases/genworlds-docs.txt \"\"\"\n",
    "\n",
    "message_to_send = UserSpeaksWithAgentEvent(\n",
    "    sender_id=test_user.id, \n",
    "    created_at=datetime.now(),\n",
    "    message=test_msg, \n",
    "    target_id=\"DCPI\"\n",
    ").json()\n",
    "\n",
    "sleep(1)\n",
    "\n",
    "# Send the message to DCPI\n",
    "test_user.socket_client.send_message(message_to_send)"
   ]
  },
  {
   "cell_type": "code",
   "execution_count": 9,
   "id": "9d75dbbd",
   "metadata": {},
   "outputs": [],
   "source": [
    "from genworlds.worlds.concrete.base.actions import UserSpeaksWithAgentEvent\n",
    "\n",
    "test_msg = \"\"\"DCPI Agent, please create a collection named genworlds-ner which extracts Named Entities and its descriptions in the qdrant vectorstore\n",
    "from the contents of this file ./databases/genworlds-docs.txt \"\"\"\n",
    "\n",
    "message_to_send = UserSpeaksWithAgentEvent(\n",
    "    sender_id=test_user.id, \n",
    "    created_at=datetime.now(),\n",
    "    message=test_msg, \n",
    "    target_id=\"DCPI\"\n",
    ").json()\n",
    "\n",
    "sleep(1)\n",
    "\n",
    "# Send the message to DCPI\n",
    "test_user.socket_client.send_message(message_to_send)"
   ]
  },
  {
   "cell_type": "code",
   "execution_count": 10,
   "id": "9ba22706",
   "metadata": {},
   "outputs": [
    {
     "name": "stderr",
     "output_type": "stream",
     "text": [
      "INFO:     ('127.0.0.1', 61988) - \"WebSocket /ws\" [accepted]\n",
      "INFO:     connection open\n",
      "INFO:     ('127.0.0.1', 62003) - \"WebSocket /ws\" [accepted]\n",
      "INFO:     connection open\n"
     ]
    }
   ],
   "source": [
    "from genworlds.worlds.concrete.base.actions import UserSpeaksWithAgentEvent\n",
    "\n",
    "test_msg = \"\"\"DCPI Agent, please create a collection named genworlds-text-chunks in the qdrant vectorstore\n",
    "from the contents of this file ./databases/genworlds-docs.txt \"\"\"\n",
    "\n",
    "message_to_send = UserSpeaksWithAgentEvent(\n",
    "    sender_id=test_user.id, \n",
    "    created_at=datetime.now(),\n",
    "    message=test_msg, \n",
    "    target_id=\"DCPI\"\n",
    ").json()\n",
    "\n",
    "sleep(1)\n",
    "\n",
    "# Send the message to DCPI\n",
    "test_user.socket_client.send_message(message_to_send)"
   ]
  },
  {
   "cell_type": "code",
   "execution_count": null,
   "id": "714f1928",
   "metadata": {},
   "outputs": [],
   "source": []
  }
 ],
 "metadata": {
  "kernelspec": {
   "display_name": "Python 3 (ipykernel)",
   "language": "python",
   "name": "python3"
  },
  "language_info": {
   "codemirror_mode": {
    "name": "ipython",
    "version": 3
   },
   "file_extension": ".py",
   "mimetype": "text/x-python",
   "name": "python",
   "nbconvert_exporter": "python",
   "pygments_lexer": "ipython3",
   "version": "3.11.4"
  }
 },
 "nbformat": 4,
 "nbformat_minor": 5
}
